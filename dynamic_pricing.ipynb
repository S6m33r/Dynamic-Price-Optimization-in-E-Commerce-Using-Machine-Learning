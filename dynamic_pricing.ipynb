{
 "cells": [
  {
   "cell_type": "code",
   "execution_count": 4,
   "id": "a0a7b69c-dc91-466a-9aec-699fffe3214e",
   "metadata": {},
   "outputs": [],
   "source": [
    "# Importing necessary libraries\n",
    "import numpy as np\n",
    "import pandas as pd\n",
    "import tensorflow as tf\n",
    "from tensorflow.keras.models import Sequential\n",
    "from tensorflow.keras.layers import Dense, Dropout\n",
    "import random\n",
    "from sklearn.metrics import mean_absolute_error, mean_squared_error"
   ]
  },
  {
   "cell_type": "code",
   "execution_count": 5,
   "id": "8b11727b-dd32-46ae-a9a7-c9ed5f9230fe",
   "metadata": {},
   "outputs": [],
   "source": [
    "#Loading and preparing data\n",
    "data = pd.DataFrame({\n",
    "    'Product ID': ['P6879', 'P5132', 'P2941'],\n",
    "    'Product Name': ['Jacket', 'Camera', 'Sneakers'],\n",
    "    'Category': ['Apparel', 'Electronics', 'Footwear'],\n",
    "    'Price': [53.85, 761.26, 1756.76],\n",
    "    'Discount': [5, 10, 5],\n",
    "    'Tax Rate': [15, 15, 8],\n",
    "    'Stock Level': [150, 224, 468],\n",
    "    'Supplier ID': ['S535', 'S583', 'S118'],\n",
    "    'Customer Age Group': ['35-44', '25-34', '25-34'],\n",
    "    'Customer Location': ['New York, USA', 'London, UK', 'Tokyo, Japan'],\n",
    "    'Customer Gender': ['Male', 'Female', 'Non-Binary'],\n",
    "    'Shipping Cost': [23.32, 20.88, 16.43],\n",
    "    'Shipping Method': ['Standard', 'Overnight', 'Standard'],\n",
    "    'Return Rate': [4.49, 16.11, 4.93],\n",
    "    'Seasonality': ['Yes', 'No', 'No'],\n",
    "    'Popularity Index': [56, 79, 40]\n",
    "})"
   ]
  },
  {
   "cell_type": "code",
   "execution_count": 6,
   "id": "0de1722a-1d15-42aa-bd31-b490c1f4ecb3",
   "metadata": {},
   "outputs": [],
   "source": [
    "# Converting categorical data to numerical\n",
    "category_encoding = {'Apparel': 0, 'Electronics': 1, 'Footwear': 2}\n",
    "data['Category'] = data['Category'].map(category_encoding)\n",
    "data['Seasonality'] = data['Seasonality'].apply(lambda x: 1 if x == 'Yes' else 0)\n",
    "\n",
    "def prepare_state(row):\n",
    "    return np.array([\n",
    "        row['Category'], row['Price'], row['Discount'], row['Tax Rate'],\n",
    "        row['Stock Level'], row['Shipping Cost'], row['Return Rate'], row['Seasonality'],\n",
    "        row['Popularity Index']\n",
    "    ])"
   ]
  },
  {
   "cell_type": "code",
   "execution_count": 7,
   "id": "8782b828-424f-4810-8e95-22a2bb807187",
   "metadata": {},
   "outputs": [
    {
     "name": "stderr",
     "output_type": "stream",
     "text": [
      "C:\\Users\\KIIT\\anaconda3\\Lib\\site-packages\\keras\\src\\layers\\core\\dense.py:87: UserWarning: Do not pass an `input_shape`/`input_dim` argument to a layer. When using Sequential models, prefer using an `Input(shape)` object as the first layer in the model instead.\n",
      "  super().__init__(activity_regularizer=activity_regularizer, **kwargs)\n"
     ]
    }
   ],
   "source": [
    "# Define the Deep Q-Network (DQN)\n",
    "def build_model():\n",
    "    model = Sequential([\n",
    "        Dense(64, activation='relu', input_dim=9),\n",
    "        Dropout(0.2),\n",
    "        Dense(64, activation='relu'),\n",
    "        Dropout(0.2),\n",
    "        Dense(3, activation='linear')  # Output: -5%, 0%, +5% price change\n",
    "    ])\n",
    "    model.compile(optimizer='adam', loss='mse')\n",
    "    return model\n",
    "\n",
    "model = build_model()"
   ]
  },
  {
   "cell_type": "code",
   "execution_count": 8,
   "id": "7c6b6a26-a4db-43eb-a4c7-ec22254ffb82",
   "metadata": {},
   "outputs": [],
   "source": [
    "# Step 4: Define the environment\n",
    "class PricingEnv:\n",
    "    def __init__(self, data):\n",
    "        self.data = data\n",
    "        self.current_index = 0\n",
    "        self.reset()\n",
    "\n",
    "    def reset(self):\n",
    "        self.current_product = self.data.iloc[self.current_index]\n",
    "        self.state = prepare_state(self.current_product)\n",
    "        self.current_index = (self.current_index + 1) % len(self.data)\n",
    "        return self.state\n",
    "\n",
    "    def step(self, action):\n",
    "        price_change = [-0.05, 0, 0.05][action]\n",
    "        new_price = self.current_product['Price'] * (1 + price_change)\n",
    "\n",
    "        # Simulate demand change\n",
    "        demand_factor = (100 - self.current_product['Popularity Index']) / 100\n",
    "        sales_volume = max(1, int(10 * (1 - demand_factor * abs(price_change))))\n",
    "        profit = (new_price - self.current_product['Price']) * sales_volume\n",
    "\n",
    "        reward = profit - self.current_product['Shipping Cost'] * sales_volume\n",
    "        done = True\n",
    "        return prepare_state(self.current_product), reward, done"
   ]
  },
  {
   "cell_type": "code",
   "execution_count": 9,
   "id": "a7af42da-8908-408b-bc05-75445ab36065",
   "metadata": {},
   "outputs": [
    {
     "name": "stdout",
     "output_type": "stream",
     "text": [
      "Episode 0, Total Reward: -530.4869999999999\n",
      "Episode 50, Total Reward: -185.64749999999998\n",
      "Episode 100, Total Reward: 642.6719999999997\n",
      "Episode 150, Total Reward: 154.6469999999999\n",
      "Episode 200, Total Reward: -233.2\n",
      "Episode 250, Total Reward: 642.6719999999997\n",
      "Episode 300, Total Reward: 154.6469999999999\n",
      "Episode 350, Total Reward: -185.64749999999998\n",
      "Episode 400, Total Reward: 642.6719999999997\n",
      "Episode 450, Total Reward: 154.6469999999999\n"
     ]
    }
   ],
   "source": [
    "# Step 5: Train the model\n",
    "env = PricingEnv(data)\n",
    "\n",
    "num_episodes = 500\n",
    "for episode in range(num_episodes):\n",
    "    state = env.reset()\n",
    "    total_reward = 0\n",
    "    done = False\n",
    "\n",
    "    while not done:\n",
    "        if np.random.rand() < 0.1:\n",
    "            action = np.random.choice(3)  # Explore\n",
    "        else:\n",
    "            action = np.argmax(model.predict(state.reshape(1, -1), verbose=0))\n",
    "\n",
    "        next_state, reward, done = env.step(action)\n",
    "        total_reward += reward\n",
    "\n",
    "        target = reward\n",
    "        target_vec = model.predict(state.reshape(1, -1), verbose=0)[0]\n",
    "        target_vec[action] = target\n",
    "        model.fit(state.reshape(1, -1), target_vec.reshape(-1, 3), epochs=1, verbose=0)\n",
    "\n",
    "        state = next_state\n",
    "\n",
    "    if episode % 50 == 0:\n",
    "        print(f\"Episode {episode}, Total Reward: {total_reward}\")"
   ]
  },
  {
   "cell_type": "code",
   "execution_count": 10,
   "id": "5d9df1d6-71a3-4ff3-b383-ae23876c8285",
   "metadata": {},
   "outputs": [
    {
     "name": "stdout",
     "output_type": "stream",
     "text": [
      "Product: Jacket, Original Price: $53.85, New Price: $51.16\n",
      "Product: Camera, Original Price: $761.26, New Price: $799.32\n",
      "Product: Sneakers, Original Price: $1756.76, New Price: $1844.60\n"
     ]
    }
   ],
   "source": [
    "# Step 6: Test the model\n",
    "predicted_prices = []\n",
    "actual_prices = []\n",
    "\n",
    "for _, row in data.iterrows():\n",
    "    state = prepare_state(row)\n",
    "    action = np.argmax(model.predict(state.reshape(1, -1), verbose=0))\n",
    "    price_change = [-0.05, 0, 0.05][action]\n",
    "    new_price = row['Price'] * (1 + price_change)\n",
    "    predicted_prices.append(new_price)\n",
    "    actual_prices.append(row['Price'])\n",
    "    print(f\"Product: {row['Product Name']}, Original Price: ${row['Price']:.2f}, New Price: ${new_price:.2f}\")"
   ]
  },
  {
   "cell_type": "code",
   "execution_count": 11,
   "id": "2aa28a55-e196-4665-886e-e8dd8c91fc18",
   "metadata": {},
   "outputs": [
    {
     "name": "stdout",
     "output_type": "stream",
     "text": [
      "Mean Absolute Error (MAE): 42.86\n",
      "Mean Squared Error (MSE): 3057.19\n",
      "Root Mean Squared Error (RMSE): 55.29\n"
     ]
    }
   ],
   "source": [
    "# Step 7: Evaluate model performance\n",
    "mae = mean_absolute_error(actual_prices, predicted_prices)\n",
    "mse = mean_squared_error(actual_prices, predicted_prices)\n",
    "rmse = np.sqrt(mse)\n",
    "\n",
    "print(f\"Mean Absolute Error (MAE): {mae:.2f}\")\n",
    "print(f\"Mean Squared Error (MSE): {mse:.2f}\")\n",
    "print(f\"Root Mean Squared Error (RMSE): {rmse:.2f}\")"
   ]
  },
  {
   "cell_type": "code",
   "execution_count": null,
   "id": "622e71b7-393f-45dc-bd15-72260c8fcd3f",
   "metadata": {},
   "outputs": [],
   "source": []
  }
 ],
 "metadata": {
  "kernelspec": {
   "display_name": "Python 3 (ipykernel)",
   "language": "python",
   "name": "python3"
  },
  "language_info": {
   "codemirror_mode": {
    "name": "ipython",
    "version": 3
   },
   "file_extension": ".py",
   "mimetype": "text/x-python",
   "name": "python",
   "nbconvert_exporter": "python",
   "pygments_lexer": "ipython3",
   "version": "3.12.7"
  }
 },
 "nbformat": 4,
 "nbformat_minor": 5
}
